{
 "cells": [
  {
   "cell_type": "code",
   "execution_count": 1,
   "id": "09f21806-c996-44f3-aef0-ae77ad73306c",
   "metadata": {},
   "outputs": [],
   "source": [
    "import pandas as pd\n",
    "import numpy as np\n",
    "from sklearn.preprocessing import StandardScaler,MinMaxScaler\n",
    "from collections import OrderedDict\n",
    "from ripser import Rips\n",
    "import persim\n",
    "from sklearn.cluster import AgglomerativeClustering\n",
    "import warnings\n",
    "from matplotlib import pyplot as plt\n",
    "from scipy.cluster.hierarchy import dendrogram"
   ]
  },
  {
   "cell_type": "code",
   "execution_count": 2,
   "id": "3119ba31-abda-47bf-982b-de8bce7db424",
   "metadata": {},
   "outputs": [],
   "source": [
    "warnings.filterwarnings('ignore')"
   ]
  },
  {
   "cell_type": "code",
   "execution_count": 3,
   "id": "01f44d60-5711-4885-8b08-b12d25e3e8f3",
   "metadata": {},
   "outputs": [],
   "source": [
    "#read gdp per person and rename the columns\n",
    "gdp = pd.read_csv('gdp.csv')\n",
    "gdp = gdp.rename(columns={\"GDP per person employed (constant 2017 PPP $)\": \"GDP\"})"
   ]
  },
  {
   "cell_type": "code",
   "execution_count": 4,
   "id": "0ac4492b-b7bb-4efd-8f02-06296b68c091",
   "metadata": {},
   "outputs": [
    {
     "data": {
      "text/html": [
       "<div>\n",
       "<style scoped>\n",
       "    .dataframe tbody tr th:only-of-type {\n",
       "        vertical-align: middle;\n",
       "    }\n",
       "\n",
       "    .dataframe tbody tr th {\n",
       "        vertical-align: top;\n",
       "    }\n",
       "\n",
       "    .dataframe thead th {\n",
       "        text-align: right;\n",
       "    }\n",
       "</style>\n",
       "<table border=\"1\" class=\"dataframe\">\n",
       "  <thead>\n",
       "    <tr style=\"text-align: right;\">\n",
       "      <th></th>\n",
       "      <th>Code</th>\n",
       "      <th>Year</th>\n",
       "      <th>Population</th>\n",
       "    </tr>\n",
       "  </thead>\n",
       "  <tbody>\n",
       "    <tr>\n",
       "      <th>0</th>\n",
       "      <td>ABW</td>\n",
       "      <td>1960</td>\n",
       "      <td>54608.0</td>\n",
       "    </tr>\n",
       "    <tr>\n",
       "      <th>1</th>\n",
       "      <td>AFE</td>\n",
       "      <td>1960</td>\n",
       "      <td>130692579.0</td>\n",
       "    </tr>\n",
       "    <tr>\n",
       "      <th>2</th>\n",
       "      <td>AFG</td>\n",
       "      <td>1960</td>\n",
       "      <td>8622466.0</td>\n",
       "    </tr>\n",
       "    <tr>\n",
       "      <th>3</th>\n",
       "      <td>AFW</td>\n",
       "      <td>1960</td>\n",
       "      <td>97256290.0</td>\n",
       "    </tr>\n",
       "    <tr>\n",
       "      <th>4</th>\n",
       "      <td>AGO</td>\n",
       "      <td>1960</td>\n",
       "      <td>5357195.0</td>\n",
       "    </tr>\n",
       "    <tr>\n",
       "      <th>...</th>\n",
       "      <td>...</td>\n",
       "      <td>...</td>\n",
       "      <td>...</td>\n",
       "    </tr>\n",
       "    <tr>\n",
       "      <th>16487</th>\n",
       "      <td>XKX</td>\n",
       "      <td>2021</td>\n",
       "      <td>1786038.0</td>\n",
       "    </tr>\n",
       "    <tr>\n",
       "      <th>16488</th>\n",
       "      <td>YEM</td>\n",
       "      <td>2021</td>\n",
       "      <td>32981641.0</td>\n",
       "    </tr>\n",
       "    <tr>\n",
       "      <th>16489</th>\n",
       "      <td>ZAF</td>\n",
       "      <td>2021</td>\n",
       "      <td>59392255.0</td>\n",
       "    </tr>\n",
       "    <tr>\n",
       "      <th>16490</th>\n",
       "      <td>ZMB</td>\n",
       "      <td>2021</td>\n",
       "      <td>19473125.0</td>\n",
       "    </tr>\n",
       "    <tr>\n",
       "      <th>16491</th>\n",
       "      <td>ZWE</td>\n",
       "      <td>2021</td>\n",
       "      <td>15993524.0</td>\n",
       "    </tr>\n",
       "  </tbody>\n",
       "</table>\n",
       "<p>16492 rows × 3 columns</p>\n",
       "</div>"
      ],
      "text/plain": [
       "      Code  Year   Population\n",
       "0      ABW  1960      54608.0\n",
       "1      AFE  1960  130692579.0\n",
       "2      AFG  1960    8622466.0\n",
       "3      AFW  1960   97256290.0\n",
       "4      AGO  1960    5357195.0\n",
       "...    ...   ...          ...\n",
       "16487  XKX  2021    1786038.0\n",
       "16488  YEM  2021   32981641.0\n",
       "16489  ZAF  2021   59392255.0\n",
       "16490  ZMB  2021   19473125.0\n",
       "16491  ZWE  2021   15993524.0\n",
       "\n",
       "[16492 rows x 3 columns]"
      ]
     },
     "execution_count": 4,
     "metadata": {},
     "output_type": "execute_result"
    }
   ],
   "source": [
    "#read population csv, drop some columns, melt columns into rows, change type of column year and rename column\n",
    "population = pd.read_csv('population.csv', skiprows=3)\n",
    "population = population.drop(columns=[\"Unnamed: 66\", \"Indicator Code\", \"Country Name\", \"Indicator Name\"])\n",
    "population_tall = pd.melt(population, id_vars=\"Country Code\", var_name=\"Year\", value_name=\"Population\")\n",
    "population_tall[\"Year\"] = population_tall[\"Year\"].astype(np.int64)\n",
    "population_tall = population_tall.rename(columns={\"Country Code\": \"Code\"})\n",
    "population_tall"
   ]
  },
  {
   "cell_type": "code",
   "execution_count": 5,
   "id": "03fa10cf-77e6-4809-aeda-93626add310f",
   "metadata": {},
   "outputs": [],
   "source": [
    "#merge gdp and population and drop null rows\n",
    "data = gdp.merge(population_tall, on=[\"Code\", \"Year\"])\n",
    "data = data.dropna()"
   ]
  },
  {
   "cell_type": "code",
   "execution_count": 6,
   "id": "0b4ee495-9637-448d-a84f-a0bc1bef81e5",
   "metadata": {},
   "outputs": [
    {
     "data": {
      "text/html": [
       "<div>\n",
       "<style scoped>\n",
       "    .dataframe tbody tr th:only-of-type {\n",
       "        vertical-align: middle;\n",
       "    }\n",
       "\n",
       "    .dataframe tbody tr th {\n",
       "        vertical-align: top;\n",
       "    }\n",
       "\n",
       "    .dataframe thead th {\n",
       "        text-align: right;\n",
       "    }\n",
       "</style>\n",
       "<table border=\"1\" class=\"dataframe\">\n",
       "  <thead>\n",
       "    <tr style=\"text-align: right;\">\n",
       "      <th></th>\n",
       "      <th>Code</th>\n",
       "      <th>Year</th>\n",
       "      <th>WorkForce</th>\n",
       "    </tr>\n",
       "  </thead>\n",
       "  <tbody>\n",
       "    <tr>\n",
       "      <th>0</th>\n",
       "      <td>ABW</td>\n",
       "      <td>1960</td>\n",
       "      <td>NaN</td>\n",
       "    </tr>\n",
       "    <tr>\n",
       "      <th>1</th>\n",
       "      <td>AFE</td>\n",
       "      <td>1960</td>\n",
       "      <td>NaN</td>\n",
       "    </tr>\n",
       "    <tr>\n",
       "      <th>2</th>\n",
       "      <td>AFG</td>\n",
       "      <td>1960</td>\n",
       "      <td>NaN</td>\n",
       "    </tr>\n",
       "    <tr>\n",
       "      <th>3</th>\n",
       "      <td>AFW</td>\n",
       "      <td>1960</td>\n",
       "      <td>NaN</td>\n",
       "    </tr>\n",
       "    <tr>\n",
       "      <th>4</th>\n",
       "      <td>AGO</td>\n",
       "      <td>1960</td>\n",
       "      <td>NaN</td>\n",
       "    </tr>\n",
       "    <tr>\n",
       "      <th>...</th>\n",
       "      <td>...</td>\n",
       "      <td>...</td>\n",
       "      <td>...</td>\n",
       "    </tr>\n",
       "    <tr>\n",
       "      <th>16487</th>\n",
       "      <td>XKX</td>\n",
       "      <td>2021</td>\n",
       "      <td>NaN</td>\n",
       "    </tr>\n",
       "    <tr>\n",
       "      <th>16488</th>\n",
       "      <td>YEM</td>\n",
       "      <td>2021</td>\n",
       "      <td>7298663.0</td>\n",
       "    </tr>\n",
       "    <tr>\n",
       "      <th>16489</th>\n",
       "      <td>ZAF</td>\n",
       "      <td>2021</td>\n",
       "      <td>22397601.0</td>\n",
       "    </tr>\n",
       "    <tr>\n",
       "      <th>16490</th>\n",
       "      <td>ZMB</td>\n",
       "      <td>2021</td>\n",
       "      <td>8113422.0</td>\n",
       "    </tr>\n",
       "    <tr>\n",
       "      <th>16491</th>\n",
       "      <td>ZWE</td>\n",
       "      <td>2021</td>\n",
       "      <td>7915768.0</td>\n",
       "    </tr>\n",
       "  </tbody>\n",
       "</table>\n",
       "<p>16492 rows × 3 columns</p>\n",
       "</div>"
      ],
      "text/plain": [
       "      Code  Year   WorkForce\n",
       "0      ABW  1960         NaN\n",
       "1      AFE  1960         NaN\n",
       "2      AFG  1960         NaN\n",
       "3      AFW  1960         NaN\n",
       "4      AGO  1960         NaN\n",
       "...    ...   ...         ...\n",
       "16487  XKX  2021         NaN\n",
       "16488  YEM  2021   7298663.0\n",
       "16489  ZAF  2021  22397601.0\n",
       "16490  ZMB  2021   8113422.0\n",
       "16491  ZWE  2021   7915768.0\n",
       "\n",
       "[16492 rows x 3 columns]"
      ]
     },
     "execution_count": 6,
     "metadata": {},
     "output_type": "execute_result"
    }
   ],
   "source": [
    "#read workforce csv, drop some columns, melt columns into rows, change type of column year and rename column\n",
    "workforce = pd.read_csv('WorkForce.csv', skiprows=3)\n",
    "workforce = workforce.drop(columns=[\"Unnamed: 66\", \"Indicator Code\", \"Country Name\", \"Indicator Name\"])\n",
    "workforce_tall = pd.melt(workforce, id_vars=\"Country Code\", var_name=\"Year\", value_name=\"WorkForce\")\n",
    "workforce_tall[\"Year\"] = workforce_tall[\"Year\"].astype(np.int64)\n",
    "workforce_tall = workforce_tall.rename(columns={\"Country Code\": \"Code\"})\n",
    "workforce_tall"
   ]
  },
  {
   "cell_type": "code",
   "execution_count": 7,
   "id": "76502c51-e018-4aea-ae09-f1530518e33a",
   "metadata": {},
   "outputs": [],
   "source": [
    "#merge gdp,population and workforce and drop null rows\n",
    "data1 = data.merge(workforce_tall, on=[\"Code\", \"Year\"])\n",
    "data1 = data1.dropna()"
   ]
  },
  {
   "cell_type": "code",
   "execution_count": 8,
   "id": "979a32fa-ab33-451c-8ec3-bdc5dbc046b4",
   "metadata": {},
   "outputs": [
    {
     "data": {
      "text/html": [
       "<div>\n",
       "<style scoped>\n",
       "    .dataframe tbody tr th:only-of-type {\n",
       "        vertical-align: middle;\n",
       "    }\n",
       "\n",
       "    .dataframe tbody tr th {\n",
       "        vertical-align: top;\n",
       "    }\n",
       "\n",
       "    .dataframe thead th {\n",
       "        text-align: right;\n",
       "    }\n",
       "</style>\n",
       "<table border=\"1\" class=\"dataframe\">\n",
       "  <thead>\n",
       "    <tr style=\"text-align: right;\">\n",
       "      <th></th>\n",
       "      <th>Code</th>\n",
       "      <th>Year</th>\n",
       "      <th>Refugees</th>\n",
       "    </tr>\n",
       "  </thead>\n",
       "  <tbody>\n",
       "    <tr>\n",
       "      <th>0</th>\n",
       "      <td>ABW</td>\n",
       "      <td>1960</td>\n",
       "      <td>NaN</td>\n",
       "    </tr>\n",
       "    <tr>\n",
       "      <th>1</th>\n",
       "      <td>AFE</td>\n",
       "      <td>1960</td>\n",
       "      <td>NaN</td>\n",
       "    </tr>\n",
       "    <tr>\n",
       "      <th>2</th>\n",
       "      <td>AFG</td>\n",
       "      <td>1960</td>\n",
       "      <td>NaN</td>\n",
       "    </tr>\n",
       "    <tr>\n",
       "      <th>3</th>\n",
       "      <td>AFW</td>\n",
       "      <td>1960</td>\n",
       "      <td>NaN</td>\n",
       "    </tr>\n",
       "    <tr>\n",
       "      <th>4</th>\n",
       "      <td>AGO</td>\n",
       "      <td>1960</td>\n",
       "      <td>NaN</td>\n",
       "    </tr>\n",
       "    <tr>\n",
       "      <th>...</th>\n",
       "      <td>...</td>\n",
       "      <td>...</td>\n",
       "      <td>...</td>\n",
       "    </tr>\n",
       "    <tr>\n",
       "      <th>16487</th>\n",
       "      <td>XKX</td>\n",
       "      <td>2021</td>\n",
       "      <td>NaN</td>\n",
       "    </tr>\n",
       "    <tr>\n",
       "      <th>16488</th>\n",
       "      <td>YEM</td>\n",
       "      <td>2021</td>\n",
       "      <td>89467.0</td>\n",
       "    </tr>\n",
       "    <tr>\n",
       "      <th>16489</th>\n",
       "      <td>ZAF</td>\n",
       "      <td>2021</td>\n",
       "      <td>75512.0</td>\n",
       "    </tr>\n",
       "    <tr>\n",
       "      <th>16490</th>\n",
       "      <td>ZMB</td>\n",
       "      <td>2021</td>\n",
       "      <td>75154.0</td>\n",
       "    </tr>\n",
       "    <tr>\n",
       "      <th>16491</th>\n",
       "      <td>ZWE</td>\n",
       "      <td>2021</td>\n",
       "      <td>9483.0</td>\n",
       "    </tr>\n",
       "  </tbody>\n",
       "</table>\n",
       "<p>16492 rows × 3 columns</p>\n",
       "</div>"
      ],
      "text/plain": [
       "      Code  Year  Refugees\n",
       "0      ABW  1960       NaN\n",
       "1      AFE  1960       NaN\n",
       "2      AFG  1960       NaN\n",
       "3      AFW  1960       NaN\n",
       "4      AGO  1960       NaN\n",
       "...    ...   ...       ...\n",
       "16487  XKX  2021       NaN\n",
       "16488  YEM  2021   89467.0\n",
       "16489  ZAF  2021   75512.0\n",
       "16490  ZMB  2021   75154.0\n",
       "16491  ZWE  2021    9483.0\n",
       "\n",
       "[16492 rows x 3 columns]"
      ]
     },
     "execution_count": 8,
     "metadata": {},
     "output_type": "execute_result"
    }
   ],
   "source": [
    "#read refugees csv, drop some columns, melt columns into rows, change type of column year and rename column\n",
    "refugees = pd.read_csv('refugees.csv', skiprows=3)\n",
    "refugees = refugees.drop(columns=[\"Unnamed: 66\", \"Indicator Code\", \"Country Name\", \"Indicator Name\"])\n",
    "refugees_tall = pd.melt(refugees, id_vars=\"Country Code\", var_name=\"Year\", value_name=\"Refugees\")\n",
    "refugees_tall[\"Year\"] = refugees_tall[\"Year\"].astype(np.int64)\n",
    "refugees_tall = refugees_tall.rename(columns={\"Country Code\": \"Code\"})\n",
    "refugees_tall\n"
   ]
  },
  {
   "cell_type": "code",
   "execution_count": 9,
   "id": "2093e99e-13c1-4674-b44a-a0486690fca0",
   "metadata": {},
   "outputs": [],
   "source": [
    "#merge gdp,population,workforce and refugees and drop null rows\n",
    "data2 = data1.merge(refugees_tall, on=[\"Code\", \"Year\"])\n",
    "data2 = data2.dropna()"
   ]
  },
  {
   "cell_type": "code",
   "execution_count": 10,
   "id": "17f7e153-74cf-47e4-ad9d-8d0aabf0428c",
   "metadata": {},
   "outputs": [
    {
     "data": {
      "text/html": [
       "<div>\n",
       "<style scoped>\n",
       "    .dataframe tbody tr th:only-of-type {\n",
       "        vertical-align: middle;\n",
       "    }\n",
       "\n",
       "    .dataframe tbody tr th {\n",
       "        vertical-align: top;\n",
       "    }\n",
       "\n",
       "    .dataframe thead th {\n",
       "        text-align: right;\n",
       "    }\n",
       "</style>\n",
       "<table border=\"1\" class=\"dataframe\">\n",
       "  <thead>\n",
       "    <tr style=\"text-align: right;\">\n",
       "      <th></th>\n",
       "      <th>Code</th>\n",
       "      <th>Year</th>\n",
       "      <th>SchoolEnrollment</th>\n",
       "    </tr>\n",
       "  </thead>\n",
       "  <tbody>\n",
       "    <tr>\n",
       "      <th>0</th>\n",
       "      <td>ABW</td>\n",
       "      <td>1960</td>\n",
       "      <td>NaN</td>\n",
       "    </tr>\n",
       "    <tr>\n",
       "      <th>1</th>\n",
       "      <td>AFE</td>\n",
       "      <td>1960</td>\n",
       "      <td>NaN</td>\n",
       "    </tr>\n",
       "    <tr>\n",
       "      <th>2</th>\n",
       "      <td>AFG</td>\n",
       "      <td>1960</td>\n",
       "      <td>NaN</td>\n",
       "    </tr>\n",
       "    <tr>\n",
       "      <th>3</th>\n",
       "      <td>AFW</td>\n",
       "      <td>1960</td>\n",
       "      <td>NaN</td>\n",
       "    </tr>\n",
       "    <tr>\n",
       "      <th>4</th>\n",
       "      <td>AGO</td>\n",
       "      <td>1960</td>\n",
       "      <td>NaN</td>\n",
       "    </tr>\n",
       "    <tr>\n",
       "      <th>...</th>\n",
       "      <td>...</td>\n",
       "      <td>...</td>\n",
       "      <td>...</td>\n",
       "    </tr>\n",
       "    <tr>\n",
       "      <th>16487</th>\n",
       "      <td>XKX</td>\n",
       "      <td>2021</td>\n",
       "      <td>NaN</td>\n",
       "    </tr>\n",
       "    <tr>\n",
       "      <th>16488</th>\n",
       "      <td>YEM</td>\n",
       "      <td>2021</td>\n",
       "      <td>NaN</td>\n",
       "    </tr>\n",
       "    <tr>\n",
       "      <th>16489</th>\n",
       "      <td>ZAF</td>\n",
       "      <td>2021</td>\n",
       "      <td>NaN</td>\n",
       "    </tr>\n",
       "    <tr>\n",
       "      <th>16490</th>\n",
       "      <td>ZMB</td>\n",
       "      <td>2021</td>\n",
       "      <td>NaN</td>\n",
       "    </tr>\n",
       "    <tr>\n",
       "      <th>16491</th>\n",
       "      <td>ZWE</td>\n",
       "      <td>2021</td>\n",
       "      <td>96.117836</td>\n",
       "    </tr>\n",
       "  </tbody>\n",
       "</table>\n",
       "<p>16492 rows × 3 columns</p>\n",
       "</div>"
      ],
      "text/plain": [
       "      Code  Year  SchoolEnrollment\n",
       "0      ABW  1960               NaN\n",
       "1      AFE  1960               NaN\n",
       "2      AFG  1960               NaN\n",
       "3      AFW  1960               NaN\n",
       "4      AGO  1960               NaN\n",
       "...    ...   ...               ...\n",
       "16487  XKX  2021               NaN\n",
       "16488  YEM  2021               NaN\n",
       "16489  ZAF  2021               NaN\n",
       "16490  ZMB  2021               NaN\n",
       "16491  ZWE  2021         96.117836\n",
       "\n",
       "[16492 rows x 3 columns]"
      ]
     },
     "execution_count": 10,
     "metadata": {},
     "output_type": "execute_result"
    }
   ],
   "source": [
    "#read schoolenrollment csv, drop some columns, melt columns into rows, change type of column year and rename column\n",
    "school_enrollment = pd.read_csv('schoolenrollment.csv', skiprows=3)\n",
    "school_enrollment = school_enrollment.drop(columns=[\"Unnamed: 66\", \"Indicator Code\", \"Country Name\", \"Indicator Name\"])\n",
    "school_enrollment_tall = pd.melt(school_enrollment, id_vars=\"Country Code\", var_name=\"Year\", value_name=\"SchoolEnrollment\")\n",
    "school_enrollment_tall[\"Year\"] = school_enrollment_tall[\"Year\"].astype(np.int64)\n",
    "school_enrollment_tall = school_enrollment_tall.rename(columns={\"Country Code\": \"Code\"})\n",
    "school_enrollment_tall"
   ]
  },
  {
   "cell_type": "code",
   "execution_count": 11,
   "id": "fe7986db-c5a4-4280-9095-605880923c6f",
   "metadata": {},
   "outputs": [
    {
     "data": {
      "text/html": [
       "<div>\n",
       "<style scoped>\n",
       "    .dataframe tbody tr th:only-of-type {\n",
       "        vertical-align: middle;\n",
       "    }\n",
       "\n",
       "    .dataframe tbody tr th {\n",
       "        vertical-align: top;\n",
       "    }\n",
       "\n",
       "    .dataframe thead th {\n",
       "        text-align: right;\n",
       "    }\n",
       "</style>\n",
       "<table border=\"1\" class=\"dataframe\">\n",
       "  <thead>\n",
       "    <tr style=\"text-align: right;\">\n",
       "      <th></th>\n",
       "      <th>Entity</th>\n",
       "      <th>Code</th>\n",
       "      <th>Year</th>\n",
       "      <th>GDP</th>\n",
       "      <th>Population</th>\n",
       "      <th>WorkForce</th>\n",
       "      <th>Refugees</th>\n",
       "      <th>SchoolEnrollment</th>\n",
       "    </tr>\n",
       "  </thead>\n",
       "  <tbody>\n",
       "    <tr>\n",
       "      <th>0</th>\n",
       "      <td>Afghanistan</td>\n",
       "      <td>AFG</td>\n",
       "      <td>2003</td>\n",
       "      <td>5742.153809</td>\n",
       "      <td>22645130.0</td>\n",
       "      <td>5320158.0</td>\n",
       "      <td>24.0</td>\n",
       "      <td>93.362183</td>\n",
       "    </tr>\n",
       "    <tr>\n",
       "      <th>1</th>\n",
       "      <td>Afghanistan</td>\n",
       "      <td>AFG</td>\n",
       "      <td>2004</td>\n",
       "      <td>5529.232422</td>\n",
       "      <td>23553551.0</td>\n",
       "      <td>5548197.0</td>\n",
       "      <td>31.0</td>\n",
       "      <td>104.663818</td>\n",
       "    </tr>\n",
       "    <tr>\n",
       "      <th>2</th>\n",
       "      <td>Afghanistan</td>\n",
       "      <td>AFG</td>\n",
       "      <td>2005</td>\n",
       "      <td>5900.214355</td>\n",
       "      <td>24411191.0</td>\n",
       "      <td>5794645.0</td>\n",
       "      <td>31.0</td>\n",
       "      <td>98.099892</td>\n",
       "    </tr>\n",
       "    <tr>\n",
       "      <th>3</th>\n",
       "      <td>Afghanistan</td>\n",
       "      <td>AFG</td>\n",
       "      <td>2006</td>\n",
       "      <td>6055.205078</td>\n",
       "      <td>25442944.0</td>\n",
       "      <td>6070572.0</td>\n",
       "      <td>34.0</td>\n",
       "      <td>101.697853</td>\n",
       "    </tr>\n",
       "    <tr>\n",
       "      <th>4</th>\n",
       "      <td>Afghanistan</td>\n",
       "      <td>AFG</td>\n",
       "      <td>2007</td>\n",
       "      <td>6771.464355</td>\n",
       "      <td>25903301.0</td>\n",
       "      <td>6109636.0</td>\n",
       "      <td>43.0</td>\n",
       "      <td>98.933510</td>\n",
       "    </tr>\n",
       "    <tr>\n",
       "      <th>...</th>\n",
       "      <td>...</td>\n",
       "      <td>...</td>\n",
       "      <td>...</td>\n",
       "      <td>...</td>\n",
       "      <td>...</td>\n",
       "      <td>...</td>\n",
       "      <td>...</td>\n",
       "      <td>...</td>\n",
       "    </tr>\n",
       "    <tr>\n",
       "      <th>4213</th>\n",
       "      <td>Zimbabwe</td>\n",
       "      <td>ZWE</td>\n",
       "      <td>2016</td>\n",
       "      <td>7968.250488</td>\n",
       "      <td>14452704.0</td>\n",
       "      <td>7024925.0</td>\n",
       "      <td>7423.0</td>\n",
       "      <td>101.309677</td>\n",
       "    </tr>\n",
       "    <tr>\n",
       "      <th>4214</th>\n",
       "      <td>Zimbabwe</td>\n",
       "      <td>ZWE</td>\n",
       "      <td>2017</td>\n",
       "      <td>8213.922852</td>\n",
       "      <td>14751101.0</td>\n",
       "      <td>7214627.0</td>\n",
       "      <td>7566.0</td>\n",
       "      <td>98.933189</td>\n",
       "    </tr>\n",
       "    <tr>\n",
       "      <th>4215</th>\n",
       "      <td>Zimbabwe</td>\n",
       "      <td>ZWE</td>\n",
       "      <td>2018</td>\n",
       "      <td>8464.795898</td>\n",
       "      <td>15052184.0</td>\n",
       "      <td>7403981.0</td>\n",
       "      <td>7795.0</td>\n",
       "      <td>97.750809</td>\n",
       "    </tr>\n",
       "    <tr>\n",
       "      <th>4216</th>\n",
       "      <td>Zimbabwe</td>\n",
       "      <td>ZWE</td>\n",
       "      <td>2019</td>\n",
       "      <td>7806.484375</td>\n",
       "      <td>15354608.0</td>\n",
       "      <td>7591946.0</td>\n",
       "      <td>8956.0</td>\n",
       "      <td>97.140213</td>\n",
       "    </tr>\n",
       "    <tr>\n",
       "      <th>4217</th>\n",
       "      <td>Zimbabwe</td>\n",
       "      <td>ZWE</td>\n",
       "      <td>2020</td>\n",
       "      <td>7309.498047</td>\n",
       "      <td>15669666.0</td>\n",
       "      <td>7693983.0</td>\n",
       "      <td>9261.0</td>\n",
       "      <td>97.304909</td>\n",
       "    </tr>\n",
       "  </tbody>\n",
       "</table>\n",
       "<p>3577 rows × 8 columns</p>\n",
       "</div>"
      ],
      "text/plain": [
       "           Entity Code  Year          GDP  Population  WorkForce  Refugees  \\\n",
       "0     Afghanistan  AFG  2003  5742.153809  22645130.0  5320158.0      24.0   \n",
       "1     Afghanistan  AFG  2004  5529.232422  23553551.0  5548197.0      31.0   \n",
       "2     Afghanistan  AFG  2005  5900.214355  24411191.0  5794645.0      31.0   \n",
       "3     Afghanistan  AFG  2006  6055.205078  25442944.0  6070572.0      34.0   \n",
       "4     Afghanistan  AFG  2007  6771.464355  25903301.0  6109636.0      43.0   \n",
       "...           ...  ...   ...          ...         ...        ...       ...   \n",
       "4213     Zimbabwe  ZWE  2016  7968.250488  14452704.0  7024925.0    7423.0   \n",
       "4214     Zimbabwe  ZWE  2017  8213.922852  14751101.0  7214627.0    7566.0   \n",
       "4215     Zimbabwe  ZWE  2018  8464.795898  15052184.0  7403981.0    7795.0   \n",
       "4216     Zimbabwe  ZWE  2019  7806.484375  15354608.0  7591946.0    8956.0   \n",
       "4217     Zimbabwe  ZWE  2020  7309.498047  15669666.0  7693983.0    9261.0   \n",
       "\n",
       "      SchoolEnrollment  \n",
       "0            93.362183  \n",
       "1           104.663818  \n",
       "2            98.099892  \n",
       "3           101.697853  \n",
       "4            98.933510  \n",
       "...                ...  \n",
       "4213        101.309677  \n",
       "4214         98.933189  \n",
       "4215         97.750809  \n",
       "4216         97.140213  \n",
       "4217         97.304909  \n",
       "\n",
       "[3577 rows x 8 columns]"
      ]
     },
     "execution_count": 11,
     "metadata": {},
     "output_type": "execute_result"
    }
   ],
   "source": [
    "#merge gdp,population,workforce, refugees and school enrollment and drop null rows\n",
    "#final data at the moment\n",
    "data3 = data2.merge(school_enrollment_tall, on=[\"Code\", \"Year\"])\n",
    "data3 = data3.dropna()\n",
    "data3"
   ]
  },
  {
   "cell_type": "code",
   "execution_count": 12,
   "id": "05dbd210-fe50-4063-b915-02c7972936a6",
   "metadata": {},
   "outputs": [
    {
     "data": {
      "text/html": [
       "<div>\n",
       "<style scoped>\n",
       "    .dataframe tbody tr th:only-of-type {\n",
       "        vertical-align: middle;\n",
       "    }\n",
       "\n",
       "    .dataframe tbody tr th {\n",
       "        vertical-align: top;\n",
       "    }\n",
       "\n",
       "    .dataframe thead th {\n",
       "        text-align: right;\n",
       "    }\n",
       "</style>\n",
       "<table border=\"1\" class=\"dataframe\">\n",
       "  <thead>\n",
       "    <tr style=\"text-align: right;\">\n",
       "      <th></th>\n",
       "      <th>Entity</th>\n",
       "      <th>Code</th>\n",
       "      <th>Year</th>\n",
       "      <th>GDP</th>\n",
       "      <th>Population</th>\n",
       "      <th>WorkForce</th>\n",
       "      <th>Refugees</th>\n",
       "      <th>SchoolEnrollment</th>\n",
       "    </tr>\n",
       "  </thead>\n",
       "  <tbody>\n",
       "    <tr>\n",
       "      <th>0</th>\n",
       "      <td>Afghanistan</td>\n",
       "      <td>AFG</td>\n",
       "      <td>2003</td>\n",
       "      <td>-0.919385</td>\n",
       "      <td>-0.141360</td>\n",
       "      <td>-0.197016</td>\n",
       "      <td>-0.318141</td>\n",
       "      <td>-0.440504</td>\n",
       "    </tr>\n",
       "    <tr>\n",
       "      <th>16</th>\n",
       "      <td>Afghanistan</td>\n",
       "      <td>AFG</td>\n",
       "      <td>2019</td>\n",
       "      <td>-0.849106</td>\n",
       "      <td>-0.040170</td>\n",
       "      <td>-0.132650</td>\n",
       "      <td>-0.115658</td>\n",
       "      <td>0.381103</td>\n",
       "    </tr>\n",
       "    <tr>\n",
       "      <th>15</th>\n",
       "      <td>Afghanistan</td>\n",
       "      <td>AFG</td>\n",
       "      <td>2018</td>\n",
       "      <td>-0.849928</td>\n",
       "      <td>-0.047414</td>\n",
       "      <td>-0.137783</td>\n",
       "      <td>-0.115656</td>\n",
       "      <td>0.214494</td>\n",
       "    </tr>\n",
       "    <tr>\n",
       "      <th>14</th>\n",
       "      <td>Afghanistan</td>\n",
       "      <td>AFG</td>\n",
       "      <td>2017</td>\n",
       "      <td>-0.844672</td>\n",
       "      <td>-0.054395</td>\n",
       "      <td>-0.142691</td>\n",
       "      <td>-0.105282</td>\n",
       "      <td>0.102368</td>\n",
       "    </tr>\n",
       "    <tr>\n",
       "      <th>13</th>\n",
       "      <td>Afghanistan</td>\n",
       "      <td>AFG</td>\n",
       "      <td>2016</td>\n",
       "      <td>-0.842215</td>\n",
       "      <td>-0.061134</td>\n",
       "      <td>-0.147395</td>\n",
       "      <td>-0.150592</td>\n",
       "      <td>0.121505</td>\n",
       "    </tr>\n",
       "    <tr>\n",
       "      <th>...</th>\n",
       "      <td>...</td>\n",
       "      <td>...</td>\n",
       "      <td>...</td>\n",
       "      <td>...</td>\n",
       "      <td>...</td>\n",
       "      <td>...</td>\n",
       "      <td>...</td>\n",
       "      <td>...</td>\n",
       "    </tr>\n",
       "    <tr>\n",
       "      <th>4189</th>\n",
       "      <td>Zimbabwe</td>\n",
       "      <td>ZWE</td>\n",
       "      <td>1992</td>\n",
       "      <td>-0.841604</td>\n",
       "      <td>-0.221669</td>\n",
       "      <td>-0.205635</td>\n",
       "      <td>0.348422</td>\n",
       "      <td>0.229076</td>\n",
       "    </tr>\n",
       "    <tr>\n",
       "      <th>4188</th>\n",
       "      <td>Zimbabwe</td>\n",
       "      <td>ZWE</td>\n",
       "      <td>1991</td>\n",
       "      <td>-0.813053</td>\n",
       "      <td>-0.223434</td>\n",
       "      <td>-0.207648</td>\n",
       "      <td>0.236007</td>\n",
       "      <td>0.297900</td>\n",
       "    </tr>\n",
       "    <tr>\n",
       "      <th>4216</th>\n",
       "      <td>Zimbabwe</td>\n",
       "      <td>ZWE</td>\n",
       "      <td>2019</td>\n",
       "      <td>-0.867206</td>\n",
       "      <td>-0.190137</td>\n",
       "      <td>-0.165648</td>\n",
       "      <td>-0.293092</td>\n",
       "      <td>-0.207797</td>\n",
       "    </tr>\n",
       "    <tr>\n",
       "      <th>4198</th>\n",
       "      <td>Zimbabwe</td>\n",
       "      <td>ZWE</td>\n",
       "      <td>2001</td>\n",
       "      <td>-0.820152</td>\n",
       "      <td>-0.213176</td>\n",
       "      <td>-0.191263</td>\n",
       "      <td>-0.293788</td>\n",
       "      <td>0.599977</td>\n",
       "    </tr>\n",
       "    <tr>\n",
       "      <th>4217</th>\n",
       "      <td>Zimbabwe</td>\n",
       "      <td>ZWE</td>\n",
       "      <td>2020</td>\n",
       "      <td>-0.879768</td>\n",
       "      <td>-0.188029</td>\n",
       "      <td>-0.164239</td>\n",
       "      <td>-0.292237</td>\n",
       "      <td>-0.197653</td>\n",
       "    </tr>\n",
       "  </tbody>\n",
       "</table>\n",
       "<p>3577 rows × 8 columns</p>\n",
       "</div>"
      ],
      "text/plain": [
       "           Entity Code  Year       GDP  Population  WorkForce  Refugees  \\\n",
       "0     Afghanistan  AFG  2003 -0.919385   -0.141360  -0.197016 -0.318141   \n",
       "16    Afghanistan  AFG  2019 -0.849106   -0.040170  -0.132650 -0.115658   \n",
       "15    Afghanistan  AFG  2018 -0.849928   -0.047414  -0.137783 -0.115656   \n",
       "14    Afghanistan  AFG  2017 -0.844672   -0.054395  -0.142691 -0.105282   \n",
       "13    Afghanistan  AFG  2016 -0.842215   -0.061134  -0.147395 -0.150592   \n",
       "...           ...  ...   ...       ...         ...        ...       ...   \n",
       "4189     Zimbabwe  ZWE  1992 -0.841604   -0.221669  -0.205635  0.348422   \n",
       "4188     Zimbabwe  ZWE  1991 -0.813053   -0.223434  -0.207648  0.236007   \n",
       "4216     Zimbabwe  ZWE  2019 -0.867206   -0.190137  -0.165648 -0.293092   \n",
       "4198     Zimbabwe  ZWE  2001 -0.820152   -0.213176  -0.191263 -0.293788   \n",
       "4217     Zimbabwe  ZWE  2020 -0.879768   -0.188029  -0.164239 -0.292237   \n",
       "\n",
       "      SchoolEnrollment  \n",
       "0            -0.440504  \n",
       "16            0.381103  \n",
       "15            0.214494  \n",
       "14            0.102368  \n",
       "13            0.121505  \n",
       "...                ...  \n",
       "4189          0.229076  \n",
       "4188          0.297900  \n",
       "4216         -0.207797  \n",
       "4198          0.599977  \n",
       "4217         -0.197653  \n",
       "\n",
       "[3577 rows x 8 columns]"
      ]
     },
     "execution_count": 12,
     "metadata": {},
     "output_type": "execute_result"
    }
   ],
   "source": [
    "scaler= StandardScaler()\n",
    "# standardization of data\n",
    "data3_standardized = data3.copy()\n",
    "data3_standardized[['GDP', 'Population','WorkForce','Refugees','SchoolEnrollment']] = scaler.fit_transform(data3_standardized[['GDP', 'Population','WorkForce','Refugees','SchoolEnrollment']]) \n",
    "data3_standardized = data3_standardized.sort_values(by=['Code'])\n",
    "data3_standardized\n"
   ]
  },
  {
   "cell_type": "code",
   "execution_count": 13,
   "id": "79c44739-86bc-48d6-bea6-b90f0477c4cd",
   "metadata": {},
   "outputs": [],
   "source": [
    "#group datatable as ordered dictionary where dict key is column name entity\n",
    "slovar = OrderedDict(sorted(data3_standardized.groupby(\"Entity\")))\n",
    "#get keys and order the so they ordered the sae as in slovar\n",
    "kljucki = slovar.keys()\n",
    "kljucki_list = list(kljucki)"
   ]
  },
  {
   "cell_type": "code",
   "execution_count": 14,
   "id": "59d82cce-9c1f-48e6-ab75-e4684adf595d",
   "metadata": {},
   "outputs": [],
   "source": [
    "#make lists for pointclouds and peristent diagrams of them\n",
    "pointclouds = []\n",
    "persistent_diagrams_all = []"
   ]
  },
  {
   "cell_type": "code",
   "execution_count": 15,
   "id": "05fb86a1-6c32-47d3-baff-be4bd75acc23",
   "metadata": {},
   "outputs": [],
   "source": [
    "#make pointclouds by making an array of points from numerical columns\n",
    "for kljucek in kljucki_list:\n",
    "    pointclouds.append(slovar[kljucek][['GDP', 'Population','WorkForce','Refugees','SchoolEnrollment']].values)    "
   ]
  },
  {
   "cell_type": "code",
   "execution_count": 16,
   "id": "95a369bc-b5c6-484b-b994-f39a7e581e38",
   "metadata": {},
   "outputs": [
    {
     "name": "stdout",
     "output_type": "stream",
     "text": [
      "Rips(maxdim=1, thresh=inf, coeff=2, do_cocycles=False, n_perm = None, verbose=True)\n"
     ]
    }
   ],
   "source": [
    "#rv filtration + persistent diagrams up to dimension 1 (so H_1)\n",
    "rips = Rips(maxdim=1)"
   ]
  },
  {
   "cell_type": "code",
   "execution_count": 17,
   "id": "e39ce391-b625-438a-b8b4-5c59e541fb01",
   "metadata": {},
   "outputs": [],
   "source": [
    "#calculate persistent diagrams up to dimension 1 but put into array just H_0\n",
    "for pointcloud in pointclouds:\n",
    "    persistent_diagrams_all.append(rips.fit_transform(pointcloud)[0])"
   ]
  },
  {
   "cell_type": "code",
   "execution_count": 18,
   "id": "ca0895cf-d53d-4c36-ab9a-810c245482e2",
   "metadata": {},
   "outputs": [],
   "source": [
    "#initialize distance matrix for bottleneck distance\n",
    "matrika_razdalj = np.zeros((len(persistent_diagrams_all),len(persistent_diagrams_all)))"
   ]
  },
  {
   "cell_type": "code",
   "execution_count": 19,
   "id": "0611652f-f40b-4ded-9fa4-fc8689a45c29",
   "metadata": {},
   "outputs": [],
   "source": [
    "#boundary of distance matrix\n",
    "meja = len(persistent_diagrams_all)"
   ]
  },
  {
   "cell_type": "code",
   "execution_count": 20,
   "id": "e7420c3d-94e8-4846-b145-7464b9ed3297",
   "metadata": {},
   "outputs": [],
   "source": [
    "#compute bottleneck distance matrix for all persistent diagrams H_0 for all pointclouds\n",
    "for i in range(0,meja):\n",
    "    for j in range(i+1,meja):\n",
    "        if not (len(persistent_diagrams_all[i]) == 1 & len(persistent_diagrams_all[j]) == 1):\n",
    "            matrika_razdalj[i][j] = persim.bottleneck(persistent_diagrams_all[i], persistent_diagrams_all[j], matching=False)\n",
    "            matrika_razdalj[j][i] = matrika_razdalj[i][j]\n",
    "       \n",
    "    "
   ]
  },
  {
   "cell_type": "code",
   "execution_count": 21,
   "id": "6252edec-7355-421a-b5ae-5ef27241cf72",
   "metadata": {},
   "outputs": [
    {
     "data": {
      "text/plain": [
       "66"
      ]
     },
     "execution_count": 21,
     "metadata": {},
     "output_type": "execute_result"
    }
   ],
   "source": [
    "#make clustering for matrika_razdalj\n",
    "clustering = AgglomerativeClustering(affinity=\"precomputed\",linkage='complete',distance_threshold=0.1, n_clusters=None).fit(matrika_razdalj)\n",
    "#check nr of clusters\n",
    "clustering.n_clusters_"
   ]
  },
  {
   "cell_type": "code",
   "execution_count": 22,
   "id": "d63d2a83-2c7a-41f0-9a74-26a59a49633d",
   "metadata": {},
   "outputs": [
    {
     "data": {
      "text/plain": [
       "array([15,  1,  1, 59,  1, 63,  1, 14, 53, 14, 14, 65, 10, 14, 14, 64,  1,\n",
       "       22, 45, 11, 30, 34,  7, 12, 14, 62, 42, 12, 51, 33, 26, 38, 61,  4,\n",
       "       17,  4,  0,  1, 52, 14, 26,  5,  6,  4, 39, 14, 11,  2, 23, 22,  1,\n",
       "       40,  5,  5, 58, 11, 14,  3, 55, 16, 22,  1,  0,  4, 14, 60,  0, 31,\n",
       "       18, 56, 22, 14, 26, 26, 57, 28, 48, 32, 26, 22, 15, 18,  1, 22,  6,\n",
       "       46, 37, 29, 22, 30,  1, 12, 10,  0, 50,  3, 41, 30,  6, 22,  3,  4,\n",
       "       22,  5, 17,  7, 14,  0,  9, 49, 17, 11, 43,  5,  5,  1, 20, 14,  5,\n",
       "        7, 12, 24, 35, 22,  8, 11, 13, 19, 23, 14,  5, 46,  1, 14, 26, 14,\n",
       "       36, 44,  8, 10,  4,  2, 14, 13, 22, 22, 47, 54, 27,  9, 21,  5, 25,\n",
       "       14, 26, 23, 62, 54,  4], dtype=int64)"
      ]
     },
     "execution_count": 22,
     "metadata": {},
     "output_type": "execute_result"
    }
   ],
   "source": [
    "#check all the clusters \n",
    "clusterji = clustering.labels_\n",
    "clusterji"
   ]
  },
  {
   "cell_type": "code",
   "execution_count": 23,
   "id": "6e9d89b9-fae9-4e45-a3df-3d9e7fb5396b",
   "metadata": {},
   "outputs": [],
   "source": [
    "#connect array of clusters clusterji with pointclouds by name of the country\n",
    "dict1 = {}\n",
    "for i in range(0,len(kljucki_list)):\n",
    "    dict1[clusterji[i]] = []\n",
    "for i in range(0,len(kljucki_list)):\n",
    "    if kljucki_list[i] not in dict1[clusterji[i]]:\n",
    "        dict1[clusterji[i]] = dict1[clusterji[i]]+[kljucki_list[i]]"
   ]
  },
  {
   "cell_type": "code",
   "execution_count": 24,
   "id": "1276646a-59fc-4baa-a77b-c7b57c9cef26",
   "metadata": {},
   "outputs": [],
   "source": [
    "#initialize distance matrix for wasserstein distance\n",
    "matrika_razdalj1 = np.zeros((len(persistent_diagrams_all),len(persistent_diagrams_all)))"
   ]
  },
  {
   "cell_type": "code",
   "execution_count": 25,
   "id": "beb9fe23-f94f-44fd-8985-e310bbe2268a",
   "metadata": {},
   "outputs": [],
   "source": [
    "#compute wasserstein distance matrix for all persistent diagrams H_0 for all pointclouds\n",
    "for i in range(0,meja):\n",
    "    for j in range(i+1,meja):\n",
    "        matrika_razdalj1[i][j] = persim.wasserstein(persistent_diagrams_all[i], persistent_diagrams_all[j], matching=False)\n",
    "        matrika_razdalj1[j][i] = matrika_razdalj1[i][j]\n",
    "       "
   ]
  },
  {
   "cell_type": "code",
   "execution_count": 26,
   "id": "243af277-d1a2-4b17-850c-8904b947b7b7",
   "metadata": {},
   "outputs": [
    {
     "data": {
      "text/plain": [
       "66"
      ]
     },
     "execution_count": 26,
     "metadata": {},
     "output_type": "execute_result"
    }
   ],
   "source": [
    "#make clustering for matrika_razdalj1\n",
    "clustering1 = AgglomerativeClustering(affinity=\"precomputed\",linkage='complete',distance_threshold=0.7, n_clusters=None).fit(matrika_razdalj1)\n",
    "#check nr of clusters\n",
    "clustering1.n_clusters_"
   ]
  },
  {
   "cell_type": "code",
   "execution_count": 27,
   "id": "a7dd962a-3cc8-468d-a055-9646cb38642d",
   "metadata": {},
   "outputs": [
    {
     "data": {
      "text/plain": [
       "array([ 6, 23, 23, 55, 15, 33, 12, 15, 53, 16, 16, 57, 10,  5,  5,  1,  5,\n",
       "        5, 37, 26, 32, 59, 47, 64,  5, 16, 14,  1, 11, 63,  5, 25, 44,  3,\n",
       "        7, 26, 21, 23, 56,  5, 16, 10,  2,  9, 11,  5,  9, 60, 13,  5, 23,\n",
       "       38, 47, 47,  4,  9, 15,  2,  4, 41, 16, 12, 49, 30,  5, 58, 46, 31,\n",
       "       61, 36,  5, 23, 16, 16, 34, 27, 35, 42, 12,  5,  6, 61, 13, 15,  0,\n",
       "       62, 52, 18, 15,  7, 23, 24, 13, 21, 28, 19,  6, 22,  0, 15,  2,  3,\n",
       "        5,  3,  7, 32,  5, 21,  6, 17, 65,  9, 20, 10,  3,  3, 46,  5, 10,\n",
       "       22, 24, 50, 45, 16, 29,  9, 47, 51, 25, 23,  3, 62, 23, 15,  5,  5,\n",
       "       40, 54, 48,  3, 12,  8, 23, 30, 16,  5, 39, 16, 43,  6, 14, 10, 19,\n",
       "        5, 15, 25, 23,  0,  6], dtype=int64)"
      ]
     },
     "execution_count": 27,
     "metadata": {},
     "output_type": "execute_result"
    }
   ],
   "source": [
    "#check all the clusters\n",
    "clusterji1 = clustering1.labels_\n",
    "clusterji1"
   ]
  },
  {
   "cell_type": "code",
   "execution_count": 28,
   "id": "854f828c-9bb3-4c83-a4de-da183ddc73ca",
   "metadata": {
    "tags": []
   },
   "outputs": [],
   "source": [
    "#connect array of clusters clusterji1 with pointclouds by name of the country\n",
    "dict2 = {}\n",
    "for i in range(0,len(kljucki_list)):\n",
    "    dict2[clusterji1[i]] = []\n",
    "    \n",
    "for i in range(0,len(kljucki_list)):\n",
    "    if kljucki_list[i] not in dict2[clusterji1[i]]:\n",
    "        dict2[clusterji1[i]] = dict2[clusterji1[i]]+[kljucki_list[i]]"
   ]
  },
  {
   "cell_type": "code",
   "execution_count": 29,
   "id": "de6f5f61-aeb9-4060-952e-a4d5e4e01b48",
   "metadata": {},
   "outputs": [],
   "source": [
    "#helper function for plotting dendrograms from scipy library\n",
    "def plot_dendrogram(model, **kwargs):\n",
    "    # Create linkage matrix and then plot the dendrogram\n",
    "\n",
    "    # create the counts of samples under each node\n",
    "    counts = np.zeros(model.children_.shape[0])\n",
    "    n_samples = len(model.labels_)\n",
    "    for i, merge in enumerate(model.children_):\n",
    "        current_count = 0\n",
    "        for child_idx in merge:\n",
    "            if child_idx < n_samples:\n",
    "                current_count += 1  # leaf node\n",
    "            else:\n",
    "                current_count += counts[child_idx - n_samples]\n",
    "        counts[i] = current_count\n",
    "\n",
    "    linkage_matrix = np.column_stack(\n",
    "        [model.children_, model.distances_, counts]\n",
    "    ).astype(float)\n",
    "\n",
    "    # Plot the corresponding dendrogram\n",
    "    dendrogram(linkage_matrix, **kwargs)"
   ]
  },
  {
   "cell_type": "code",
   "execution_count": 30,
   "id": "0b6d582f-d838-4899-ada8-42df36c58aed",
   "metadata": {},
   "outputs": [
    {
     "data": {
      "image/png": "[encoded data removed]",
      "text/plain": [
       "<Figure size 432x2304 with 1 Axes>"
      ]
     },
     "metadata": {
      "needs_background": "light"
     },
     "output_type": "display_data"
    }
   ],
   "source": [
    "#plot dendrogram for clustering (bottleneck distance)\n",
    "fig, ax = plt.subplots(figsize=(6, 32))\n",
    "plt.title(\"Hierarchical Clustering Dendrogram\")\n",
    "# plot the top three levels of the dendrogram\n",
    "plot_dendrogram(clustering, truncate_mode=\"level\", p=20, ax=ax, labels=kljucki_list, orientation=\"right\", leaf_font_size=9)\n",
    "plt.xlabel(\"Number of points in node (or index of point if no parenthesis).\")\n",
    "\n",
    "plt.show()"
   ]
  },
  {
   "cell_type": "code",
   "execution_count": 31,
   "id": "17310405-517a-4e9c-8a62-d18c218cbe71",
   "metadata": {},
   "outputs": [
    {
     "data": {
      "image/png": "[encoded data removed]",
      "text/plain": [
       "<Figure size 432x2304 with 1 Axes>"
      ]
     },
     "metadata": {
      "needs_background": "light"
     },
     "output_type": "display_data"
    }
   ],
   "source": [
    "#plot dendrogram for clustering1 (wasserstein distance)\n",
    "fig, ax = plt.subplots(figsize=(6, 32))\n",
    "plt.title(\"Hierarchical Clustering Dendrogram\")\n",
    "# plot the top three levels of the dendrogram\n",
    "plot_dendrogram(clustering1, truncate_mode=\"level\", p=20, ax=ax, labels=kljucki_list, orientation=\"right\", leaf_font_size=9)\n",
    "plt.xlabel(\"Number of points in node (or index of point if no parenthesis).\")\n",
    "\n",
    "plt.show()"
   ]
  },
  {
   "cell_type": "code",
   "execution_count": 32,
   "id": "2f6e7fa4-54ce-4b25-9f30-5d9231e01c86",
   "metadata": {},
   "outputs": [],
   "source": [
    "#end of project"
   ]
  },
  {
   "cell_type": "code",
   "execution_count": null,
   "id": "ad817164-af28-4df8-b24a-be9835ccd290",
   "metadata": {},
   "outputs": [],
   "source": []
  },
  {
   "cell_type": "code",
   "execution_count": null,
   "id": "7551b01d-b8a4-4004-a961-7c696e5e35b0",
   "metadata": {},
   "outputs": [],
   "source": []
  },
  {
   "cell_type": "code",
   "execution_count": null,
   "id": "1d3b0e29-2416-46b9-b25e-75621f4763d6",
   "metadata": {},
   "outputs": [],
   "source": []
  },
  {
   "cell_type": "code",
   "execution_count": null,
   "id": "eb300497-1eca-4fa6-bbfd-44c9b13da0f4",
   "metadata": {},
   "outputs": [],
   "source": []
  },
  {
   "cell_type": "code",
   "execution_count": null,
   "id": "1e52eb8c-84a5-487c-b447-66ce3e51a26b",
   "metadata": {},
   "outputs": [],
   "source": []
  },
  {
   "cell_type": "code",
   "execution_count": null,
   "id": "d4ce0c64-02cd-4626-93c7-69587288e02a",
   "metadata": {},
   "outputs": [],
   "source": []
  },
  {
   "cell_type": "code",
   "execution_count": null,
   "id": "adbbb28e-faf4-4dcd-8662-49ad20579d6e",
   "metadata": {},
   "outputs": [],
   "source": []
  },
  {
   "cell_type": "code",
   "execution_count": null,
   "id": "0b92df04-0a5e-4ffb-a016-f31f3d96cbbc",
   "metadata": {},
   "outputs": [],
   "source": []
  },
  {
   "cell_type": "code",
   "execution_count": 33,
   "id": "5118e10e-18ee-4a38-ac46-1309eced96d2",
   "metadata": {},
   "outputs": [],
   "source": [
    "#from that line onwards it was just testing the functions"
   ]
  },
  {
   "cell_type": "code",
   "execution_count": 34,
   "id": "c3c399bb-2b12-46d6-8f5f-30ce6aaec0b9",
   "metadata": {},
   "outputs": [
    {
     "name": "stdout",
     "output_type": "stream",
     "text": [
      "Rips(maxdim=3, thresh=inf, coeff=2, do_cocycles=False, n_perm = None, verbose=True)\n"
     ]
    },
    {
     "data": {
      "image/png": "[encoded data removed]",
      "text/plain": [
       "<Figure size 432x288 with 1 Axes>"
      ]
     },
     "metadata": {
      "needs_background": "light"
     },
     "output_type": "display_data"
    }
   ],
   "source": [
    "import numpy as np\n",
    "from ripser import Rips\n",
    "data=[]\n",
    "diagrams =[]\n",
    "rips = Rips(maxdim=3)\n",
    "data.append(np.random.random((100,4)))\n",
    "data.append(np.random.random((100,4)))\n",
    "data.append(np.random.random((100,4)))\n",
    "diagrams.append(rips.fit_transform(data[0]))\n",
    "diagrams.append(rips.fit_transform(data[1]))\n",
    "diagrams.append(rips.fit_transform(data[2]))\n",
    "rips.plot(diagrams[0])\n",
    "rips.plot(diagrams[1])\n",
    "rips.plot(diagrams[2])"
   ]
  },
  {
   "cell_type": "code",
   "execution_count": 35,
   "id": "895b7ea8-b51f-4f83-87c6-91e1ae5c3762",
   "metadata": {},
   "outputs": [
    {
     "data": {
      "text/plain": [
       "[array([[0.        , 0.12620723],\n",
       "        [0.        , 0.14132236],\n",
       "        [0.        , 0.14304659],\n",
       "        [0.        , 0.14468953],\n",
       "        [0.        , 0.14921643],\n",
       "        [0.        , 0.15106723],\n",
       "        [0.        , 0.15555716],\n",
       "        [0.        , 0.15620358],\n",
       "        [0.        , 0.16225001],\n",
       "        [0.        , 0.16978072],\n",
       "        [0.        , 0.16995688],\n",
       "        [0.        , 0.17109798],\n",
       "        [0.        , 0.1720733 ],\n",
       "        [0.        , 0.17434299],\n",
       "        [0.        , 0.18019612],\n",
       "        [0.        , 0.18142709],\n",
       "        [0.        , 0.18397035],\n",
       "        [0.        , 0.18443039],\n",
       "        [0.        , 0.18450032],\n",
       "        [0.        , 0.18697713],\n",
       "        [0.        , 0.19889152],\n",
       "        [0.        , 0.19995943],\n",
       "        [0.        , 0.20066597],\n",
       "        [0.        , 0.20086026],\n",
       "        [0.        , 0.20346148],\n",
       "        [0.        , 0.20614831],\n",
       "        [0.        , 0.20628874],\n",
       "        [0.        , 0.20737991],\n",
       "        [0.        , 0.20816992],\n",
       "        [0.        , 0.20837048],\n",
       "        [0.        , 0.20963357],\n",
       "        [0.        , 0.2121217 ],\n",
       "        [0.        , 0.21850412],\n",
       "        [0.        , 0.22028083],\n",
       "        [0.        , 0.22518232],\n",
       "        [0.        , 0.22772677],\n",
       "        [0.        , 0.22789203],\n",
       "        [0.        , 0.22809082],\n",
       "        [0.        , 0.22821423],\n",
       "        [0.        , 0.22912651],\n",
       "        [0.        , 0.23079205],\n",
       "        [0.        , 0.23159878],\n",
       "        [0.        , 0.23280635],\n",
       "        [0.        , 0.23439986],\n",
       "        [0.        , 0.23602618],\n",
       "        [0.        , 0.23628992],\n",
       "        [0.        , 0.23683375],\n",
       "        [0.        , 0.23776855],\n",
       "        [0.        , 0.23949131],\n",
       "        [0.        , 0.23969787],\n",
       "        [0.        , 0.24115781],\n",
       "        [0.        , 0.24269237],\n",
       "        [0.        , 0.24386233],\n",
       "        [0.        , 0.24500935],\n",
       "        [0.        , 0.24578874],\n",
       "        [0.        , 0.24745068],\n",
       "        [0.        , 0.24818593],\n",
       "        [0.        , 0.24918824],\n",
       "        [0.        , 0.24948175],\n",
       "        [0.        , 0.24982592],\n",
       "        [0.        , 0.25070271],\n",
       "        [0.        , 0.251454  ],\n",
       "        [0.        , 0.25696766],\n",
       "        [0.        , 0.25700444],\n",
       "        [0.        , 0.26141179],\n",
       "        [0.        , 0.2620914 ],\n",
       "        [0.        , 0.26524994],\n",
       "        [0.        , 0.2663365 ],\n",
       "        [0.        , 0.26758811],\n",
       "        [0.        , 0.26915821],\n",
       "        [0.        , 0.27201512],\n",
       "        [0.        , 0.27393374],\n",
       "        [0.        , 0.27498055],\n",
       "        [0.        , 0.27563146],\n",
       "        [0.        , 0.27871948],\n",
       "        [0.        , 0.27974322],\n",
       "        [0.        , 0.28133747],\n",
       "        [0.        , 0.28229585],\n",
       "        [0.        , 0.28283489],\n",
       "        [0.        , 0.29452801],\n",
       "        [0.        , 0.29462001],\n",
       "        [0.        , 0.29511991],\n",
       "        [0.        , 0.29593143],\n",
       "        [0.        , 0.29932916],\n",
       "        [0.        , 0.30419996],\n",
       "        [0.        , 0.30656242],\n",
       "        [0.        , 0.31163371],\n",
       "        [0.        , 0.31265539],\n",
       "        [0.        , 0.31448582],\n",
       "        [0.        , 0.32155448],\n",
       "        [0.        , 0.32792532],\n",
       "        [0.        , 0.33375123],\n",
       "        [0.        , 0.34822455],\n",
       "        [0.        , 0.3604731 ],\n",
       "        [0.        , 0.37229833],\n",
       "        [0.        , 0.37492374],\n",
       "        [0.        , 0.37521324],\n",
       "        [0.        , 0.39056638],\n",
       "        [0.        , 0.41797128],\n",
       "        [0.        ,        inf]]),\n",
       " array([[0.50917149, 0.57398909],\n",
       "        [0.47555026, 0.48417896],\n",
       "        [0.46831658, 0.50131309],\n",
       "        [0.46515307, 0.5069465 ],\n",
       "        [0.45655662, 0.47755158],\n",
       "        [0.44446465, 0.48583165],\n",
       "        [0.44110504, 0.53776586],\n",
       "        [0.44049045, 0.4426721 ],\n",
       "        [0.42172906, 0.45463613],\n",
       "        [0.41059166, 0.46377328],\n",
       "        [0.40799463, 0.41238311],\n",
       "        [0.40750256, 0.41305238],\n",
       "        [0.40627506, 0.42360884],\n",
       "        [0.39544192, 0.40311611],\n",
       "        [0.39449051, 0.40432423],\n",
       "        [0.38755295, 0.42436147],\n",
       "        [0.3850832 , 0.40176797],\n",
       "        [0.38405332, 0.45293877],\n",
       "        [0.38362923, 0.4592557 ],\n",
       "        [0.38103965, 0.4428221 ],\n",
       "        [0.3808673 , 0.44365138],\n",
       "        [0.3758533 , 0.45706823],\n",
       "        [0.37482882, 0.45836818],\n",
       "        [0.36600566, 0.36859271],\n",
       "        [0.36255035, 0.37390041],\n",
       "        [0.35908931, 0.37474018],\n",
       "        [0.35754997, 0.3959938 ],\n",
       "        [0.35441354, 0.38975382],\n",
       "        [0.35020915, 0.43849349],\n",
       "        [0.34987977, 0.37659392],\n",
       "        [0.34984475, 0.4536213 ],\n",
       "        [0.34111977, 0.35708687],\n",
       "        [0.33739674, 0.43300825],\n",
       "        [0.32535636, 0.43643692],\n",
       "        [0.32353681, 0.34181923],\n",
       "        [0.32174563, 0.3531161 ],\n",
       "        [0.32023242, 0.32035232],\n",
       "        [0.31706628, 0.33760467],\n",
       "        [0.30493385, 0.39188758],\n",
       "        [0.29024419, 0.3911218 ],\n",
       "        [0.28978878, 0.32963714],\n",
       "        [0.28967375, 0.41139239],\n",
       "        [0.28658921, 0.34294027],\n",
       "        [0.28465813, 0.37600368],\n",
       "        [0.2846463 , 0.38307625],\n",
       "        [0.28047702, 0.41796145],\n",
       "        [0.27199936, 0.29070243],\n",
       "        [0.26852807, 0.28095505],\n",
       "        [0.26174352, 0.27427131],\n",
       "        [0.25649467, 0.26952085],\n",
       "        [0.24085073, 0.26356399],\n",
       "        [0.21771538, 0.24781099]]),\n",
       " array([[0.57519239, 0.58679444],\n",
       "        [0.57104635, 0.58453268],\n",
       "        [0.53808653, 0.55363089],\n",
       "        [0.52444577, 0.54316109],\n",
       "        [0.51954758, 0.53823197],\n",
       "        [0.51860642, 0.52080524],\n",
       "        [0.50136632, 0.50404793],\n",
       "        [0.47039032, 0.49643853],\n",
       "        [0.45871884, 0.47134322],\n",
       "        [0.45593593, 0.48206446],\n",
       "        [0.44980896, 0.45256093],\n",
       "        [0.44553292, 0.50069636],\n",
       "        [0.43807104, 0.45336506],\n",
       "        [0.43412051, 0.43903446],\n",
       "        [0.40266451, 0.40770873]]),\n",
       " array([[0.61310756, 0.62416631],\n",
       "        [0.5413698 , 0.54841304]])]"
      ]
     },
     "execution_count": 35,
     "metadata": {},
     "output_type": "execute_result"
    }
   ],
   "source": [
    "rips.fit_transform(data[2])"
   ]
  },
  {
   "cell_type": "code",
   "execution_count": 36,
   "id": "1a1910c2-0d2d-42ed-b321-3ad8f280bcdc",
   "metadata": {},
   "outputs": [],
   "source": [
    "import persim"
   ]
  },
  {
   "cell_type": "code",
   "execution_count": 37,
   "id": "24bf1f04-1a80-47ea-a8d4-ff8e94d49442",
   "metadata": {},
   "outputs": [],
   "source": [
    "wasserstein_dists=persim.wasserstein(diagrams[0][2], diagrams[1][2], matching=False)\n",
    "wasserstein_dists1=persim.wasserstein(diagrams[0][2], diagrams[2][2], matching=False)\n",
    "wasserstein_dists2=persim.wasserstein(diagrams[2][2], diagrams[1][2], matching=False)"
   ]
  },
  {
   "cell_type": "code",
   "execution_count": 38,
   "id": "f0831d82-d57d-4a82-9ae0-898968cc8d9b",
   "metadata": {},
   "outputs": [
    {
     "data": {
      "text/plain": [
       "0.2924318691610867"
      ]
     },
     "execution_count": 38,
     "metadata": {},
     "output_type": "execute_result"
    }
   ],
   "source": [
    "wasserstein_dists"
   ]
  },
  {
   "cell_type": "code",
   "execution_count": 39,
   "id": "72915903-5d79-4564-abd8-2a17447a2456",
   "metadata": {},
   "outputs": [
    {
     "data": {
      "text/plain": [
       "0.2527440067623969"
      ]
     },
     "execution_count": 39,
     "metadata": {},
     "output_type": "execute_result"
    }
   ],
   "source": [
    "wasserstein_dists1"
   ]
  },
  {
   "cell_type": "code",
   "execution_count": 40,
   "id": "4f6ccca1-6b5c-4ccd-b438-6835f43ad767",
   "metadata": {},
   "outputs": [
    {
     "data": {
      "text/plain": [
       "0.36807282440046113"
      ]
     },
     "execution_count": 40,
     "metadata": {},
     "output_type": "execute_result"
    }
   ],
   "source": [
    "wasserstein_dists2"
   ]
  },
  {
   "cell_type": "code",
   "execution_count": 41,
   "id": "56ba522b-88fa-48b7-b8cd-c5870ccfd3de",
   "metadata": {},
   "outputs": [],
   "source": [
    "wasserstein_dists3=persim.bottleneck(diagrams[0][2], diagrams[1][2], matching=False)\n",
    "wasserstein_dists4=persim.bottleneck(diagrams[0][2], diagrams[2][2], matching=False)\n",
    "wasserstein_dists5=persim.bottleneck(diagrams[2][2], diagrams[1][2], matching=False)"
   ]
  },
  {
   "cell_type": "code",
   "execution_count": 42,
   "id": "34ae3ed1-6d63-4525-86af-4ee338c93a30",
   "metadata": {},
   "outputs": [
    {
     "data": {
      "text/plain": [
       "0.06159704923629761"
      ]
     },
     "execution_count": 42,
     "metadata": {},
     "output_type": "execute_result"
    }
   ],
   "source": [
    "wasserstein_dists3"
   ]
  },
  {
   "cell_type": "code",
   "execution_count": 43,
   "id": "d623412d-55a4-4c52-9bbe-d5b7abdaf7a4",
   "metadata": {},
   "outputs": [
    {
     "data": {
      "text/plain": [
       "0.027581721544265747"
      ]
     },
     "execution_count": 43,
     "metadata": {},
     "output_type": "execute_result"
    }
   ],
   "source": [
    "wasserstein_dists4"
   ]
  },
  {
   "cell_type": "code",
   "execution_count": 44,
   "id": "8c92ec8b-cc67-4111-a2c1-392919e3a92b",
   "metadata": {},
   "outputs": [
    {
     "data": {
      "text/plain": [
       "0.07211649417877197"
      ]
     },
     "execution_count": 44,
     "metadata": {},
     "output_type": "execute_result"
    }
   ],
   "source": [
    "wasserstein_dists5"
   ]
  },
  {
   "cell_type": "code",
   "execution_count": 45,
   "id": "b7d8ff0a-f749-4e7f-a14e-080fae428ba9",
   "metadata": {},
   "outputs": [],
   "source": [
    "#testing end"
   ]
  },
  {
   "cell_type": "code",
   "execution_count": 46,
   "id": "ab158ce4-e04d-42f1-acec-4901a224e3a1",
   "metadata": {},
   "outputs": [],
   "source": [
    "#make pointclouds"
   ]
  },
  {
   "cell_type": "code",
   "execution_count": null,
   "id": "b299ccd7-9983-4bef-9d69-787c610941a1",
   "metadata": {},
   "outputs": [],
   "source": []
  },
  {
   "cell_type": "code",
   "execution_count": 47,
   "id": "048b2d3d-7329-40dd-82ce-ba01f5526d5f",
   "metadata": {},
   "outputs": [
    {
     "data": {
      "text/plain": [
       "array([[1.56389720e-01, 7.24911634e-01],\n",
       "       [8.07831027e-01, 7.34674883e-01],\n",
       "       [7.81788161e-01, 4.03018493e-01],\n",
       "       [8.95918529e-02, 9.75679192e-01],\n",
       "       [7.73414904e-01, 7.30235926e-01],\n",
       "       [6.55573816e-01, 3.88434378e-01],\n",
       "       [7.24274395e-01, 3.00205549e-01],\n",
       "       [9.67256301e-01, 6.68126326e-01],\n",
       "       [7.33903241e-01, 4.92565927e-01],\n",
       "       [7.72995985e-01, 9.77850307e-01],\n",
       "       [2.52430927e-01, 4.58893173e-01],\n",
       "       [8.77866500e-01, 8.37778440e-01],\n",
       "       [2.12724612e-01, 4.82244172e-01],\n",
       "       [9.79882814e-01, 7.25604459e-01],\n",
       "       [3.45996094e-01, 4.50817250e-01],\n",
       "       [7.21574956e-01, 2.76403308e-02],\n",
       "       [7.49672844e-01, 7.55585735e-02],\n",
       "       [5.75517282e-02, 8.95908532e-01],\n",
       "       [2.64007309e-01, 6.94152253e-01],\n",
       "       [4.34508949e-01, 4.94461347e-01],\n",
       "       [3.91898369e-01, 6.02809567e-01],\n",
       "       [3.24683580e-01, 1.97439056e-02],\n",
       "       [9.72413543e-01, 4.97891905e-01],\n",
       "       [6.97600629e-01, 1.20545224e-01],\n",
       "       [2.89728962e-01, 8.79827962e-01],\n",
       "       [2.18381930e-01, 1.15409025e-01],\n",
       "       [9.21137727e-02, 2.89044325e-01],\n",
       "       [9.45110077e-02, 9.24382730e-01],\n",
       "       [9.88657749e-01, 5.42577822e-01],\n",
       "       [8.69205713e-01, 3.02655249e-01],\n",
       "       [3.29500756e-01, 6.81339357e-01],\n",
       "       [8.30199123e-01, 7.36585320e-01],\n",
       "       [2.57189488e-01, 8.12350908e-03],\n",
       "       [8.60845051e-01, 7.34861507e-01],\n",
       "       [3.76934211e-01, 6.63602161e-01],\n",
       "       [5.28126427e-01, 5.88620482e-01],\n",
       "       [9.76326804e-01, 8.63530876e-01],\n",
       "       [2.37487055e-02, 6.19087159e-01],\n",
       "       [1.13045885e-01, 1.11883687e-02],\n",
       "       [1.82716246e-01, 5.48809873e-01],\n",
       "       [7.00152860e-01, 3.54955489e-01],\n",
       "       [8.06967200e-01, 3.31296446e-02],\n",
       "       [1.46153214e-01, 7.13057323e-01],\n",
       "       [9.56251330e-01, 9.10581153e-01],\n",
       "       [6.26200168e-01, 3.40157083e-01],\n",
       "       [3.42280952e-01, 8.64451129e-01],\n",
       "       [4.95034698e-02, 6.51116201e-01],\n",
       "       [8.94105207e-01, 8.33654084e-01],\n",
       "       [3.82407412e-01, 3.24672486e-01],\n",
       "       [8.33768981e-01, 5.06488130e-01],\n",
       "       [6.15894210e-01, 7.31477632e-01],\n",
       "       [5.63501598e-01, 4.85593410e-01],\n",
       "       [9.08566498e-01, 9.01265581e-01],\n",
       "       [6.43430757e-02, 6.98852540e-02],\n",
       "       [5.63359461e-01, 9.06623168e-01],\n",
       "       [5.28925525e-01, 7.87958997e-01],\n",
       "       [3.67362436e-01, 9.25295323e-01],\n",
       "       [2.30469312e-01, 1.05990663e-02],\n",
       "       [3.46661732e-01, 7.85343534e-01],\n",
       "       [8.68471411e-01, 6.00745477e-01],\n",
       "       [2.33373853e-01, 9.42698084e-01],\n",
       "       [4.81941678e-01, 6.92364613e-01],\n",
       "       [1.47618173e-01, 7.22564091e-01],\n",
       "       [3.30990858e-01, 2.01193872e-01],\n",
       "       [7.68705775e-01, 3.19023825e-01],\n",
       "       [7.00867747e-01, 3.20894038e-01],\n",
       "       [3.14571473e-01, 3.15785954e-01],\n",
       "       [9.69640131e-03, 7.83089010e-01],\n",
       "       [8.79955985e-01, 8.77850620e-01],\n",
       "       [8.78084171e-01, 2.16571652e-01],\n",
       "       [9.84719918e-01, 2.72024086e-01],\n",
       "       [2.63565148e-01, 6.38165187e-01],\n",
       "       [3.08334409e-01, 1.71339914e-01],\n",
       "       [6.69780886e-01, 1.23806642e-01],\n",
       "       [5.01462314e-01, 9.24132347e-01],\n",
       "       [8.66415208e-01, 9.26675307e-01],\n",
       "       [7.35325341e-01, 6.67320720e-01],\n",
       "       [9.27192387e-01, 1.05068840e-01],\n",
       "       [3.77390161e-01, 8.18163012e-01],\n",
       "       [5.31254507e-04, 2.25904486e-01],\n",
       "       [6.56792222e-01, 5.29823703e-01],\n",
       "       [3.66159605e-01, 3.60250323e-01],\n",
       "       [7.45421813e-03, 1.87394628e-01],\n",
       "       [6.86193176e-01, 8.40581798e-02],\n",
       "       [9.39823376e-01, 6.72294726e-01],\n",
       "       [7.00795870e-01, 2.83688754e-01],\n",
       "       [5.07153763e-01, 2.79068313e-01],\n",
       "       [1.34947655e-01, 6.37782783e-01],\n",
       "       [9.29014557e-02, 4.27245322e-01],\n",
       "       [8.51992957e-01, 6.21729668e-01],\n",
       "       [4.97367658e-01, 4.51150849e-01],\n",
       "       [4.71828246e-02, 2.68976780e-01],\n",
       "       [5.95168245e-02, 3.35741398e-01],\n",
       "       [8.62981592e-01, 9.48324587e-01],\n",
       "       [2.08208558e-01, 7.89036447e-01],\n",
       "       [3.77422119e-01, 9.97887540e-01],\n",
       "       [2.40987509e-01, 7.92449765e-01],\n",
       "       [4.93951011e-03, 9.76820167e-02],\n",
       "       [1.33991881e-02, 4.17146137e-01],\n",
       "       [9.38490505e-01, 2.53949245e-01]])"
      ]
     },
     "execution_count": 47,
     "metadata": {},
     "output_type": "execute_result"
    }
   ],
   "source": [
    "np.random.random((100,2))"
   ]
  },
  {
   "cell_type": "code",
   "execution_count": null,
   "id": "5d25867f-5371-4fe7-b0ca-a7f90f76cb0c",
   "metadata": {},
   "outputs": [],
   "source": []
  },
  {
   "cell_type": "code",
   "execution_count": null,
   "id": "c0e86aec-25a9-4af5-83f5-c565ac35f9e6",
   "metadata": {},
   "outputs": [],
   "source": []
  }
 ],
 "metadata": {
  "kernelspec": {
   "display_name": "Python 3 (ipykernel)",
   "language": "python",
   "name": "python3"
  },
  "language_info": {
   "codemirror_mode": {
    "name": "ipython",
    "version": 3
   },
   "file_extension": ".py",
   "mimetype": "text/x-python",
   "name": "python",
   "nbconvert_exporter": "python",
   "pygments_lexer": "ipython3",
   "version": "3.10.2"
  }
 },
 "nbformat": 4,
 "nbformat_minor": 5
}
